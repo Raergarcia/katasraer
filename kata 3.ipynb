{
 "cells": [
  {
   "cell_type": "code",
   "execution_count": null,
   "metadata": {},
   "outputs": [],
   "source": []
  },
  {
   "cell_type": "markdown",
   "metadata": {},
   "source": [
    "Kata 3"
   ]
  },
  {
   "cell_type": "code",
   "execution_count": 9,
   "metadata": {},
   "outputs": [
    {
     "name": "stdout",
     "output_type": "stream",
     "text": [
      "programa para medir que tan grande y rapido viene un asteroide\n",
      "hay una luz en el cielo\n"
     ]
    }
   ],
   "source": [
    "print(\"programa para medir que tan grande y rapido viene un asteroide\")\n",
    "velocidadasteroide = int(input(\"a que velocidade va el asteroide?\"))\n",
    "tamañoasteroide =int(input(\"de que tamaño es el asteroide?\"))\n",
    "\n",
    "if velocidadasteroide > 25 and tamañoasteroide >25:\n",
    "    print(\"mucho cuidado viene un asteroide muy grande\")\n",
    "elif velocidadasteroide >=20:\n",
    "    print(\"hay una luz en el cielo\")\n",
    "elif tamañoasteroide < 25:\n",
    "    print(\"no hay nada que ver\")     \n",
    "else:\n",
    "    print(\"la vida es aburrida\")"
   ]
  },
  {
   "cell_type": "code",
   "execution_count": 7,
   "metadata": {},
   "outputs": [
    {
     "name": "stdout",
     "output_type": "stream",
     "text": [
      "programa para ver si viene un asteroide de mas de 20km\n",
      "mira arriba hay un asteroide\n"
     ]
    }
   ],
   "source": [
    "print(\"programa para ver si viene un asteroide de mas de 20km\")\n",
    "asteroide= int(input(\"a que velocidade va el asteroide\"))\n",
    "if asteroide > 20:\n",
    "    print(\"mira arriba hay un asteroide\")\n",
    "elif asteroide == 20:\n",
    "    print(\"mira arriba viene un asteroide!\")\n",
    "else:\n",
    "    print(\"no hay asteroides en el cielo\")"
   ]
  },
  {
   "cell_type": "code",
   "execution_count": 8,
   "metadata": {},
   "outputs": [
    {
     "name": "stdout",
     "output_type": "stream",
     "text": [
      "programa para calcular si choca un asteroide\n",
      "ya valio barriga\n"
     ]
    }
   ],
   "source": [
    "print(\"programa para calcular si choca un asteroide\")\n",
    "asteroide= int(input(\"a que velocidade va el asteroide\"))\n",
    "if asteroide >= 25:\n",
    "    print(\"ya valio barriga\")\n",
    "else:\n",
    "        print(\"no hay problema, sigue asi\")"
   ]
  }
 ],
 "metadata": {
  "interpreter": {
   "hash": "f08d52f1b234a960b0ff4f401bd94193da812769f8d31209259b103f24aafe0f"
  },
  "kernelspec": {
   "display_name": "Python 3.10.2 64-bit",
   "language": "python",
   "name": "python3"
  },
  "language_info": {
   "codemirror_mode": {
    "name": "ipython",
    "version": 3
   },
   "file_extension": ".py",
   "mimetype": "text/x-python",
   "name": "python",
   "nbconvert_exporter": "python",
   "pygments_lexer": "ipython3",
   "version": "3.10.2"
  },
  "orig_nbformat": 4
 },
 "nbformat": 4,
 "nbformat_minor": 2
}
